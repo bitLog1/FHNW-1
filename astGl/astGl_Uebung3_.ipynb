{
 "cells": [
  {
   "cell_type": "markdown",
   "metadata": {},
   "source": [
    "# astGl - Uebung 3"
   ]
  },
  {
   "cell_type": "markdown",
   "metadata": {},
   "source": [
    "## Aufgabe 1"
   ]
  },
  {
   "cell_type": "code",
   "execution_count": 29,
   "metadata": {},
   "outputs": [],
   "source": [
    "%matplotlib notebook\n",
    "from sympy import *\n",
    "import matplotlib.pyplot as plt\n",
    "from IPython.display import display, Math, Latex\n",
    "def disp(str):\n",
    "    display(Latex(str))"
   ]
  },
  {
   "cell_type": "markdown",
   "metadata": {},
   "source": [
    "Impedanzes"
   ]
  },
  {
   "cell_type": "code",
   "execution_count": 8,
   "metadata": {},
   "outputs": [],
   "source": [
    "R1 = 75;  G1 = 1/R1\n",
    "R2 = 75;  G2 = 1/R2\n",
    "R3 = 250; G3 = 1/R3\n",
    "R4 = 750; G4 = 1/R4\n",
    "Yp = G1+G2; Zp = 1/Yp\n",
    "Ym = G3+G4; Zm = 1/Ym"
   ]
  },
  {
   "cell_type": "markdown",
   "metadata": {},
   "source": [
    "Transfer Function"
   ]
  },
  {
   "cell_type": "code",
   "execution_count": 7,
   "metadata": {},
   "outputs": [
    {
     "data": {
      "text/plain": [
       "2.0"
      ]
     },
     "execution_count": 7,
     "metadata": {},
     "output_type": "execute_result"
    }
   ],
   "source": [
    "Tsig = G1*Zp*(G3+G4)/G4\n",
    "Tsig"
   ]
  },
  {
   "cell_type": "markdown",
   "metadata": {},
   "source": [
    "Resistor Noise"
   ]
  },
  {
   "cell_type": "code",
   "execution_count": 11,
   "metadata": {},
   "outputs": [
    {
     "data": {
      "text/plain": [
       "150.0"
      ]
     },
     "execution_count": 11,
     "metadata": {},
     "output_type": "execute_result"
    }
   ],
   "source": [
    "TG1 = Tsig/G1\n",
    "TG2 = TG1\n",
    "TG1"
   ]
  },
  {
   "cell_type": "code",
   "execution_count": 12,
   "metadata": {},
   "outputs": [
    {
     "data": {
      "text/plain": [
       "-750.0"
      ]
     },
     "execution_count": 12,
     "metadata": {},
     "output_type": "execute_result"
    }
   ],
   "source": [
    "TG3 = -1/G4\n",
    "TG4 = TG3\n",
    "TG3"
   ]
  },
  {
   "cell_type": "code",
   "execution_count": 13,
   "metadata": {},
   "outputs": [],
   "source": [
    "k = 1.38E-23  # Bolzman Constant\n",
    "T = 300       # Kelvin"
   ]
  },
  {
   "cell_type": "code",
   "execution_count": 55,
   "metadata": {},
   "outputs": [],
   "source": [
    "In1 = sqrt(4*k*T*G1)\n",
    "In2 = sqrt(4*k*T*G2)\n",
    "In3 = sqrt(4*k*T*G3)\n",
    "In4 = sqrt(4*k*T*G4)\n",
    "Vout_G1_2 = In1**2 * TG1**2\n",
    "Vout_G2_2 = In2**2 * TG2**2\n",
    "Vout_G3_2 = In3**2 * TG3**2\n",
    "Vout_G4_2 = In4**2 * TG4**2\n",
    "Vout_G_2 = Vout_G1_2 + Vout_G2_2 + Vout_G3_2 + Vout_G4_2 "
   ]
  },
  {
   "cell_type": "code",
   "execution_count": 70,
   "metadata": {},
   "outputs": [
    {
     "data": {
      "text/latex": [
       "$V_{OUT_{G1}}^2$ = (2.22890107452081e-9 $\\frac{V}{\\sqrt{Hz}})^2$"
      ],
      "text/plain": [
       "<IPython.core.display.Latex object>"
      ]
     },
     "metadata": {},
     "output_type": "display_data"
    },
    {
     "data": {
      "text/latex": [
       "$V_{OUT_{G2}}^2$ = (2.22890107452081e-9 $\\frac{V}{\\sqrt{Hz}})^2$"
      ],
      "text/plain": [
       "<IPython.core.display.Latex object>"
      ]
     },
     "metadata": {},
     "output_type": "display_data"
    },
    {
     "data": {
      "text/latex": [
       "$V_{OUT_{G3}}^2$ = (6.10409698481274e-9 $\\frac{V}{\\sqrt{Hz}})^2$"
      ],
      "text/plain": [
       "<IPython.core.display.Latex object>"
      ]
     },
     "metadata": {},
     "output_type": "display_data"
    },
    {
     "data": {
      "text/latex": [
       "$V_{OUT_{G4}}^2$ = (3.52420203734122e-9 $\\frac{V}{\\sqrt{Hz}})^2$"
      ],
      "text/plain": [
       "<IPython.core.display.Latex object>"
      ]
     },
     "metadata": {},
     "output_type": "display_data"
    },
    {
     "data": {
      "text/latex": [
       "$V_{OUT_{G}}^2$ = (7.72113981222980e-9 $\\frac{V}{\\sqrt{Hz}})^2$"
      ],
      "text/plain": [
       "<IPython.core.display.Latex object>"
      ]
     },
     "metadata": {},
     "output_type": "display_data"
    }
   ],
   "source": [
    "disp(\"$V_{OUT_{G1}}^2$ = (%s $\\\\frac{V}{\\\\sqrt{Hz}})^2$\" %sqrt(Vout_G1_2))\n",
    "disp(\"$V_{OUT_{G2}}^2$ = (%s $\\\\frac{V}{\\\\sqrt{Hz}})^2$\" %sqrt(Vout_G2_2))\n",
    "disp(\"$V_{OUT_{G3}}^2$ = (%s $\\\\frac{V}{\\\\sqrt{Hz}})^2$\" %sqrt(Vout_G3_2))\n",
    "disp(\"$V_{OUT_{G4}}^2$ = (%s $\\\\frac{V}{\\\\sqrt{Hz}})^2$\" %sqrt(Vout_G4_2))\n",
    "disp(\"$V_{OUT_{G}}^2$ = (%s $\\\\frac{V}{\\\\sqrt{Hz}})^2$\" %sqrt(Vout_G_2))"
   ]
  },
  {
   "cell_type": "markdown",
   "metadata": {},
   "source": [
    "OP Noise"
   ]
  },
  {
   "cell_type": "code",
   "execution_count": 59,
   "metadata": {},
   "outputs": [],
   "source": [
    "Vn_op = 3.5E-9     # V/sqrt(Hz)\n",
    "In_p_op = 1.5E-12  # A/sqrt(Hz)\n",
    "In_m_op = 18.0E-12 # A/sqrt(Hz)"
   ]
  },
  {
   "cell_type": "code",
   "execution_count": 62,
   "metadata": {},
   "outputs": [],
   "source": [
    "T_Vn = Ym/G4\n",
    "T_Inp = Tsig/G1\n",
    "T_Inm = -1/G4"
   ]
  },
  {
   "cell_type": "code",
   "execution_count": 68,
   "metadata": {},
   "outputs": [],
   "source": [
    "Vout_Vn_2 = T_Vn**2 * Vn_op**2\n",
    "Vout_Inp_2 = T_Inp**2 * In_p_op**2\n",
    "Vout_Inm_2 = T_Inm**2 * In_m_op**2\n",
    "Vout_op_2 = Vout_Vn_2 + Vout_Inp_2 + Vout_Inm_2"
   ]
  },
  {
   "cell_type": "code",
   "execution_count": 71,
   "metadata": {},
   "outputs": [
    {
     "data": {
      "text/latex": [
       "$V_{OUT_{Vn}}^2$ = (1.40000000000000e-8 $\\frac{V}{\\sqrt{Hz}})^2$"
      ],
      "text/plain": [
       "<IPython.core.display.Latex object>"
      ]
     },
     "metadata": {},
     "output_type": "display_data"
    },
    {
     "data": {
      "text/latex": [
       "$V_{OUT_{I+}}^2$ = (2.25000000000000e-10 $\\frac{V}{\\sqrt{Hz}})^2$"
      ],
      "text/plain": [
       "<IPython.core.display.Latex object>"
      ]
     },
     "metadata": {},
     "output_type": "display_data"
    },
    {
     "data": {
      "text/latex": [
       "$V_{OUT_{I-}}^2$ = (1.35000000000000e-8 $\\frac{V}{\\sqrt{Hz}})^2$"
      ],
      "text/plain": [
       "<IPython.core.display.Latex object>"
      ]
     },
     "metadata": {},
     "output_type": "display_data"
    },
    {
     "data": {
      "text/latex": [
       "$V_{OUT_{OP}}^2$ = (1.94499517994261e-8 $\\frac{V}{\\sqrt{Hz}})^2$"
      ],
      "text/plain": [
       "<IPython.core.display.Latex object>"
      ]
     },
     "metadata": {},
     "output_type": "display_data"
    }
   ],
   "source": [
    "disp(\"$V_{OUT_{Vn}}^2$ = (%s $\\\\frac{V}{\\\\sqrt{Hz}})^2$\" %sqrt(Vout_Vn_2))\n",
    "disp(\"$V_{OUT_{I+}}^2$ = (%s $\\\\frac{V}{\\\\sqrt{Hz}})^2$\" %sqrt(Vout_Inp_2))\n",
    "disp(\"$V_{OUT_{I-}}^2$ = (%s $\\\\frac{V}{\\\\sqrt{Hz}})^2$\" %sqrt(Vout_Inm_2))\n",
    "disp(\"$V_{OUT_{OP}}^2$ = (%s $\\\\frac{V}{\\\\sqrt{Hz}})^2$\" %sqrt(Vout_op_2))"
   ]
  },
  {
   "cell_type": "markdown",
   "metadata": {},
   "source": [
    "Total Noise"
   ]
  },
  {
   "cell_type": "code",
   "execution_count": 80,
   "metadata": {},
   "outputs": [
    {
     "data": {
      "text/latex": [
       "$V_{n,_{OUT}}^2$ = (2.09264575358564e-8 $\\frac{V}{\\sqrt{Hz}})^2$"
      ],
      "text/plain": [
       "<IPython.core.display.Latex object>"
      ]
     },
     "metadata": {},
     "output_type": "display_data"
    }
   ],
   "source": [
    "Vn_out_2 = Vout_op_2 + Vout_G_2\n",
    "disp(\"$V_{n,_{OUT}}^2$ = (%s $\\\\frac{V}{\\\\sqrt{Hz}})^2$\" %sqrt(Vn_out_2))\n",
    "# 20.8 nV/sqrt(Hz)"
   ]
  },
  {
   "cell_type": "markdown",
   "metadata": {},
   "source": [
    "Input Reffered"
   ]
  },
  {
   "cell_type": "code",
   "execution_count": 82,
   "metadata": {},
   "outputs": [
    {
     "data": {
      "text/latex": [
       "$V_{n,_{in}}^2$ = (9.72497589971307e-9 $\\frac{V}{\\sqrt{Hz}})^2$"
      ],
      "text/plain": [
       "<IPython.core.display.Latex object>"
      ]
     },
     "metadata": {},
     "output_type": "display_data"
    }
   ],
   "source": [
    "Vn_in = sqrt(Vout_op_2) / abs(Tsig)\n",
    "disp(\"$V_{n,_{in}}^2$ = (%s $\\\\frac{V}{\\\\sqrt{Hz}})^2$\" %(Vn_in))\n",
    "# 10.4 nV/sqrt(Hz)"
   ]
  },
  {
   "cell_type": "code",
   "execution_count": null,
   "metadata": {},
   "outputs": [],
   "source": []
  }
 ],
 "metadata": {
  "kernelspec": {
   "display_name": "Python 3",
   "language": "python",
   "name": "python3"
  },
  "language_info": {
   "codemirror_mode": {
    "name": "ipython",
    "version": 3
   },
   "file_extension": ".py",
   "mimetype": "text/x-python",
   "name": "python",
   "nbconvert_exporter": "python",
   "pygments_lexer": "ipython3",
   "version": "3.7.3"
  }
 },
 "nbformat": 4,
 "nbformat_minor": 2
}
