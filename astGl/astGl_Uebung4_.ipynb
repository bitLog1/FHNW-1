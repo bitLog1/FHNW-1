{
 "cells": [
  {
   "cell_type": "markdown",
   "metadata": {},
   "source": [
    "# astGl - Uebung 4"
   ]
  },
  {
   "cell_type": "markdown",
   "metadata": {},
   "source": [
    "## Aufgabe 1"
   ]
  },
  {
   "cell_type": "code",
   "execution_count": 1,
   "metadata": {},
   "outputs": [],
   "source": [
    "%matplotlib notebook\n",
    "from sympy import *\n",
    "import matplotlib.pyplot as plt\n",
    "from IPython.display import display, Math, Latex\n",
    "def disp(str):\n",
    "    display(Latex(str))"
   ]
  },
  {
   "cell_type": "code",
   "execution_count": 2,
   "metadata": {},
   "outputs": [
    {
     "data": {
      "text/plain": [
       "[(G1, G), (G2, G)]"
      ]
     },
     "execution_count": 2,
     "metadata": {},
     "output_type": "execute_result"
    }
   ],
   "source": [
    "G1,G2,G = symbols('G1,G2,G')\n",
    "eqg = [\n",
    "    (G1, G),\n",
    "    (G2, G)\n",
    "]\n",
    "eqg"
   ]
  },
  {
   "cell_type": "code",
   "execution_count": 3,
   "metadata": {},
   "outputs": [
    {
     "data": {
      "text/plain": [
       "[(wp2, wu/4), (A, wp2*wu/(s*(s + wp2)))]"
      ]
     },
     "execution_count": 3,
     "metadata": {},
     "output_type": "execute_result"
    }
   ],
   "source": [
    "wu,wp2,s,A = symbols('wu,wp2,s,A')\n",
    "eqop = [\n",
    "    (wp2, wu/4),\n",
    "    (A, wu/s*wp2/(s+wp2))\n",
    "]\n",
    "eqop"
   ]
  },
  {
   "cell_type": "code",
   "execution_count": 4,
   "metadata": {},
   "outputs": [
    {
     "data": {
      "text/latex": [
       "$\\displaystyle - \\frac{A G_{1} \\left(G_{1} + G_{2}\\right)}{A G_{2} \\left(G_{1} + G_{2}\\right) + 1}$"
      ],
      "text/plain": [
       "-A*G1*(G1 + G2)/(A*G2*(G1 + G2) + 1)"
      ]
     },
     "execution_count": 4,
     "metadata": {},
     "output_type": "execute_result"
    }
   ],
   "source": [
    "eqT = -G1*A*(G1+G2)/(1+G2*A*(G1+G2))\n",
    "eqT"
   ]
  },
  {
   "cell_type": "code",
   "execution_count": 41,
   "metadata": {},
   "outputs": [
    {
     "data": {
      "text/latex": [
       "$\\displaystyle - \\frac{2 A G^{2}}{2 A G^{2} + 1}$"
      ],
      "text/plain": [
       "-2*A*G**2/(2*A*G**2 + 1)"
      ]
     },
     "execution_count": 41,
     "metadata": {},
     "output_type": "execute_result"
    }
   ],
   "source": [
    "eqT.subs(eqg)"
   ]
  },
  {
   "cell_type": "code",
   "execution_count": 42,
   "metadata": {},
   "outputs": [
    {
     "data": {
      "text/latex": [
       "$\\displaystyle - \\frac{G_{1} \\wp_{2} wu \\left(G_{1} + G_{2}\\right)}{G_{2} \\wp_{2} wu \\left(G_{1} + G_{2}\\right) + s \\left(s + \\wp_{2}\\right)}$"
      ],
      "text/plain": [
       "-G1*wp2*wu*(G1 + G2)/(G2*wp2*wu*(G1 + G2) + s*(s + wp2))"
      ]
     },
     "execution_count": 42,
     "metadata": {},
     "output_type": "execute_result"
    }
   ],
   "source": [
    "eqT.subs(eqop).simplify()"
   ]
  },
  {
   "cell_type": "code",
   "execution_count": null,
   "metadata": {},
   "outputs": [],
   "source": []
  }
 ],
 "metadata": {
  "kernelspec": {
   "display_name": "Python 3",
   "language": "python",
   "name": "python3"
  },
  "language_info": {
   "codemirror_mode": {
    "name": "ipython",
    "version": 3
   },
   "file_extension": ".py",
   "mimetype": "text/x-python",
   "name": "python",
   "nbconvert_exporter": "python",
   "pygments_lexer": "ipython3",
   "version": "3.7.3"
  }
 },
 "nbformat": 4,
 "nbformat_minor": 2
}
