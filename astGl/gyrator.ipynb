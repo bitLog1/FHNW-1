{
 "cells": [
  {
   "cell_type": "markdown",
   "metadata": {},
   "source": [
    "### Initialisierung\n",
    "\n",
    "\n"
   ]
  },
  {
   "cell_type": "code",
   "execution_count": 1,
   "metadata": {},
   "outputs": [],
   "source": [
    "%matplotlib notebook\n",
    "from sympy import *\n",
    "import matplotlib.pyplot as plt"
   ]
  },
  {
   "cell_type": "markdown",
   "metadata": {},
   "source": [
    "## Driving-point impedances"
   ]
  },
  {
   "cell_type": "code",
   "execution_count": 46,
   "metadata": {},
   "outputs": [
    {
     "data": {
      "text/plain": [
       "[(Z1, 1/Y1), (Z3, 1/Y3), (Z5, 1/Y5), (Z6, 1/Y6)]"
      ]
     },
     "execution_count": 46,
     "metadata": {},
     "output_type": "execute_result"
    }
   ],
   "source": [
    "Y1,Y3,Y5,Y6, Z1,Z3,Z5,Z6 = symbols('Y1,Y3,Y5,Y6,Z1,Z3,Z5,Z6')\n",
    "eqdpi = [\n",
    "    (Z1, 1/Y1),\n",
    "    (Z3, 1/Y3),\n",
    "    (Z5, 1/Y5),\n",
    "    (Z6, 1/Y6)\n",
    "]\n",
    "eqdpi"
   ]
  },
  {
   "cell_type": "code",
   "execution_count": 47,
   "metadata": {},
   "outputs": [
    {
     "data": {
      "text/plain": [
       "[(Y1, 2*G), (Y3, 2*G1), (Y5, 2*G + YL), (Y6, 2*G1)]"
      ]
     },
     "execution_count": 47,
     "metadata": {},
     "output_type": "execute_result"
    }
   ],
   "source": [
    "G,G1,YL = symbols('G,G1,YL')\n",
    "eqdpa = [\n",
    "    (Y1, 2*G),\n",
    "    (Y3, 2*G1),\n",
    "    (Y5, 2*G+YL),\n",
    "    (Y6, 2*G1)\n",
    "]\n",
    "eqdpa"
   ]
  },
  {
   "cell_type": "markdown",
   "metadata": {},
   "source": [
    "## Loops und Graphdeterminante"
   ]
  },
  {
   "cell_type": "code",
   "execution_count": 82,
   "metadata": {},
   "outputs": [
    {
     "data": {
      "text/plain": [
       "[(L1, A*G*Z5),\n",
       " (L2, -A*G1*Z3),\n",
       " (L3, -A*G1*Z6),\n",
       " (L4, A*G*Z1),\n",
       " (L5, -A**2*G**2*G1*Z1*Z3*Z5),\n",
       " (L6, G**2*Z1*Z5)]"
      ]
     },
     "execution_count": 82,
     "metadata": {},
     "output_type": "execute_result"
    }
   ],
   "source": [
    "L1,L2,L3,L4,L5,L6,A = symbols('L1,L2,L3,L4,L5,L6,A')\n",
    "eqloops = [\n",
    "    (L1, A*G*Z5),\n",
    "    (L2, -A*G1*Z3),\n",
    "    (L3, -A*G1*Z6),\n",
    "    (L4, A*G*Z1),\n",
    "    (L5, -A**2*G*Z1*G1*Z3*G*Z5),\n",
    "    (L6, G*Z1*G*Z5)\n",
    "]\n",
    "eqloops"
   ]
  },
  {
   "cell_type": "code",
   "execution_count": 83,
   "metadata": {},
   "outputs": [
    {
     "data": {
      "text/latex": [
       "$\\displaystyle L_{1} L_{3} + L_{1} L_{4} - L_{1} - L_{2} L_{3} L_{6} + L_{2} L_{3} + L_{2} L_{4} + L_{2} L_{6} - L_{2} + L_{3} L_{6} - L_{3} - L_{4} - L_{5} - L_{6} + 1$"
      ],
      "text/plain": [
       "L1*L3 + L1*L4 - L1 - L2*L3*L6 + L2*L3 + L2*L4 + L2*L6 - L2 + L3*L6 - L3 - L4 - L5 - L6 + 1"
      ]
     },
     "execution_count": 83,
     "metadata": {},
     "output_type": "execute_result"
    }
   ],
   "source": [
    "deltaG = 1- (L1+L2+L3+L4+L5+L6) + (L1*L3+L1*L4 + L2*L3+L2*L4+L2*L6 + L3*L6) - (L2*L3*L6)\n",
    "deltaG"
   ]
  },
  {
   "cell_type": "code",
   "execution_count": 85,
   "metadata": {},
   "outputs": [
    {
     "data": {
      "text/latex": [
       "$\\displaystyle G G_{1}^{2} \\left(A^{2} G - 4 A G + 4 A YL + 12 G + 8 YL\\right)$"
      ],
      "text/plain": [
       "G*G1**2*(A**2*G - 4*A*G + 4*A*YL + 12*G + 8*YL)"
      ]
     },
     "execution_count": 85,
     "metadata": {},
     "output_type": "execute_result"
    }
   ],
   "source": [
    "expDenom = (( deltaG.subs(eqloops).subs(eqdpi) ) * Y1*Y3*Y5*Y6 ).simplify().subs(eqdpa).simplify()\n",
    "expDenom"
   ]
  },
  {
   "cell_type": "markdown",
   "metadata": {},
   "source": [
    "## Vorwärtspfade, Zähler der Eigenimpedanz"
   ]
  },
  {
   "cell_type": "code",
   "execution_count": 62,
   "metadata": {},
   "outputs": [
    {
     "data": {
      "text/plain": [
       "[(P1, Z1), (D1, L1*L3 - L1 + L2*L3 - L2 - L3 + 1)]"
      ]
     },
     "execution_count": 62,
     "metadata": {},
     "output_type": "execute_result"
    }
   ],
   "source": [
    "P1,D1 = symbols('P1,D1')\n",
    "eqpaths = [\n",
    "    (P1, 1*Z1),\n",
    "    (D1, 1- (L1+L2+L3) + (L1*L3 + L2*L3))\n",
    "]\n",
    "eqpaths"
   ]
  },
  {
   "cell_type": "code",
   "execution_count": 67,
   "metadata": {},
   "outputs": [
    {
     "data": {
      "text/latex": [
       "$\\displaystyle G_{1}^{2} \\left(A^{2} YL + 4 A G + 4 A YL + 8 G + 4 YL\\right)$"
      ],
      "text/plain": [
       "G1**2*(A**2*YL + 4*A*G + 4*A*YL + 8*G + 4*YL)"
      ]
     },
     "execution_count": 67,
     "metadata": {},
     "output_type": "execute_result"
    }
   ],
   "source": [
    "expNumer = ( P1*D1 * Y1*Y3*Y5*Y6 ).subs(eqpaths).subs(eqloops).subs(eqdpi).simplify().subs(eqdpa).simplify()\n",
    "expNumer"
   ]
  },
  {
   "cell_type": "code",
   "execution_count": 68,
   "metadata": {},
   "outputs": [
    {
     "data": {
      "text/latex": [
       "$\\displaystyle \\frac{A^{2} YL + 4 A G + 4 A YL + 8 G + 4 YL}{G \\left(A^{2} G - 4 A G + 4 A YL + 12 G + 8 YL\\right)}$"
      ],
      "text/plain": [
       "(A**2*YL + 4*A*G + 4*A*YL + 8*G + 4*YL)/(G*(A**2*G - 4*A*G + 4*A*YL + 12*G + 8*YL))"
      ]
     },
     "execution_count": 68,
     "metadata": {},
     "output_type": "execute_result"
    }
   ],
   "source": [
    "Zin = expNumer/expDenom\n",
    "Zin"
   ]
  },
  {
   "cell_type": "code",
   "execution_count": 70,
   "metadata": {},
   "outputs": [
    {
     "data": {
      "text/latex": [
       "$\\displaystyle \\frac{YL}{G^{2}}$"
      ],
      "text/plain": [
       "YL/G**2"
      ]
     },
     "execution_count": 70,
     "metadata": {},
     "output_type": "execute_result"
    }
   ],
   "source": [
    "Zin.limit(A, oo)"
   ]
  },
  {
   "cell_type": "markdown",
   "metadata": {},
   "source": [
    "## Nichtidealer OpAmp"
   ]
  },
  {
   "cell_type": "code",
   "execution_count": 71,
   "metadata": {},
   "outputs": [
    {
     "data": {
      "text/plain": [
       "[(A, w1/s)]"
      ]
     },
     "execution_count": 71,
     "metadata": {},
     "output_type": "execute_result"
    }
   ],
   "source": [
    "w1,s = symbols('w1,s')\n",
    "eqgain = [\n",
    "    (A, w1/s)\n",
    "]\n",
    "eqgain"
   ]
  },
  {
   "cell_type": "code",
   "execution_count": 73,
   "metadata": {},
   "outputs": [
    {
     "data": {
      "text/latex": [
       "$\\displaystyle G G_{1}^{2} \\left(G w_{1}^{2} + s^{2} \\left(12 G + 8 YL\\right) + 4 s w_{1} \\left(- G + YL\\right)\\right)$"
      ],
      "text/plain": [
       "G*G1**2*(G*w1**2 + s**2*(12*G + 8*YL) + 4*s*w1*(-G + YL))"
      ]
     },
     "execution_count": 73,
     "metadata": {},
     "output_type": "execute_result"
    }
   ],
   "source": [
    "( expDenom.subs(eqgain ) * s**2).simplify()"
   ]
  },
  {
   "cell_type": "code",
   "execution_count": 75,
   "metadata": {},
   "outputs": [
    {
     "data": {
      "text/plain": [
       "[(YL, C*s)]"
      ]
     },
     "execution_count": 75,
     "metadata": {},
     "output_type": "execute_result"
    }
   ],
   "source": [
    "C = symbols('C')\n",
    "eqYL = [(YL, s*C)]\n",
    "eqYL"
   ]
  },
  {
   "cell_type": "code",
   "execution_count": 78,
   "metadata": {},
   "outputs": [
    {
     "data": {
      "text/latex": [
       "$\\displaystyle G G_{1}^{2} \\left(G w_{1}^{2} + s^{2} \\left(8 C s + 12 G\\right) + 4 s w_{1} \\left(C s - G\\right)\\right)$"
      ],
      "text/plain": [
       "G*G1**2*(G*w1**2 + s**2*(8*C*s + 12*G) + 4*s*w1*(C*s - G))"
      ]
     },
     "execution_count": 78,
     "metadata": {},
     "output_type": "execute_result"
    }
   ],
   "source": [
    "expDenomYL = (expDenom.subs(eqgain)*s**2).simplify().subs(eqYL)\n",
    "expDenomYL"
   ]
  },
  {
   "cell_type": "code",
   "execution_count": 79,
   "metadata": {},
   "outputs": [
    {
     "data": {
      "text/latex": [
       "$\\displaystyle G_{1}^{2} \\left(C s w_{1}^{2} + 4 s^{2} \\left(C s + 2 G\\right) + 4 s w_{1} \\left(C s + G\\right)\\right)$"
      ],
      "text/plain": [
       "G1**2*(C*s*w1**2 + 4*s**2*(C*s + 2*G) + 4*s*w1*(C*s + G))"
      ]
     },
     "execution_count": 79,
     "metadata": {},
     "output_type": "execute_result"
    }
   ],
   "source": [
    "expNumerYL = (expNumer.subs(eqgain)*s**2).simplify().subs(eqYL)\n",
    "expNumerYL"
   ]
  },
  {
   "cell_type": "code",
   "execution_count": 88,
   "metadata": {},
   "outputs": [
    {
     "data": {
      "text/latex": [
       "$\\displaystyle \\frac{s \\left(C w_{1}^{2} + 4 s \\left(C s + 2 G\\right) + 4 w_{1} \\left(C s + G\\right)\\right)}{G \\left(G w_{1}^{2} + 4 s^{2} \\left(2 C s + 3 G\\right) + 4 s w_{1} \\left(C s - G\\right)\\right)}$"
      ],
      "text/plain": [
       "s*(C*w1**2 + 4*s*(C*s + 2*G) + 4*w1*(C*s + G))/(G*(G*w1**2 + 4*s**2*(2*C*s + 3*G) + 4*s*w1*(C*s - G)))"
      ]
     },
     "execution_count": 88,
     "metadata": {},
     "output_type": "execute_result"
    }
   ],
   "source": [
    "ZinYL = (expNumerYL/expDenomYL).simplify()\n",
    "ZinYL"
   ]
  },
  {
   "cell_type": "markdown",
   "metadata": {},
   "source": [
    "## Genauer Angeschaut..."
   ]
  },
  {
   "cell_type": "code",
   "execution_count": 93,
   "metadata": {},
   "outputs": [
    {
     "data": {
      "text/plain": [
       "[(G, 0.001), (w1, 200000000.0*pi)]"
      ]
     },
     "execution_count": 93,
     "metadata": {},
     "output_type": "execute_result"
    }
   ],
   "source": [
    "eqValues = [\n",
    "    (G, 1/1000.0),\n",
    "    (w1, 2.0*pi*100e6)\n",
    "]\n",
    "eqValues"
   ]
  },
  {
   "cell_type": "markdown",
   "metadata": {},
   "source": [
    "1 uH"
   ]
  },
  {
   "cell_type": "code",
   "execution_count": 95,
   "metadata": {},
   "outputs": [
    {
     "data": {
      "text/plain": [
       "[(C, 1.00000000000000e-12)]"
      ]
     },
     "execution_count": 95,
     "metadata": {},
     "output_type": "execute_result"
    }
   ],
   "source": [
    "eqCval = [\n",
    "    (C, (G**2 * 1e-6).subs(eqValues))\n",
    "]\n",
    "eqCval"
   ]
  },
  {
   "cell_type": "markdown",
   "metadata": {},
   "source": [
    "Ist eher zu klein (wegen parasitären C), also lieber 100uH"
   ]
  },
  {
   "cell_type": "code",
   "execution_count": 96,
   "metadata": {},
   "outputs": [
    {
     "data": {
      "text/plain": [
       "[(C, 1.00000000000000e-10)]"
      ]
     },
     "execution_count": 96,
     "metadata": {},
     "output_type": "execute_result"
    }
   ],
   "source": [
    "eqCval = [\n",
    "    (C, (G**2 * 100e-6).subs(eqValues))\n",
    "]\n",
    "eqCval"
   ]
  },
  {
   "cell_type": "code",
   "execution_count": 107,
   "metadata": {},
   "outputs": [
    {
     "data": {
      "text/latex": [
       "$\\displaystyle \\frac{1.0 s \\left(4.0 \\cdot 10^{-7} s^{2} + 259.327412287183 s + 41991691727.2293\\right)}{8.0 \\cdot 10^{-10} s^{3} + 0.263327412287183 s^{2} - 2513274.12287183 s + 394784176043574.0}$"
      ],
      "text/plain": [
       "1.0*s*(4.0e-7*s**2 + 259.327412287183*s + 41991691727.2293)/(8.0e-10*s**3 + 0.263327412287183*s**2 - 2513274.12287183*s + 394784176043574.0)"
      ]
     },
     "execution_count": 107,
     "metadata": {},
     "output_type": "execute_result"
    }
   ],
   "source": [
    "ZinNumeric = N(ZinYL.subs(eqCval).subs(eqValues).simplify()).simplify()\n",
    "ZinNumeric"
   ]
  },
  {
   "cell_type": "code",
   "execution_count": 108,
   "metadata": {},
   "outputs": [
    {
     "data": {
      "text/plain": [
       "[(s, I*f)]"
      ]
     },
     "execution_count": 108,
     "metadata": {},
     "output_type": "execute_result"
    }
   ],
   "source": [
    "f,w = symbols('w,f')\n",
    "eqwf = [\n",
    "    (s, I*w)\n",
    "]\n",
    "eqwf"
   ]
  },
  {
   "cell_type": "code",
   "execution_count": 110,
   "metadata": {},
   "outputs": [
    {
     "data": {
      "text/latex": [
       "$\\displaystyle 1.0 \\left|{\\frac{f \\left(- 4.0 \\cdot 10^{-7} f^{2} + 259.327412287183 i f + 41991691727.2293\\right)}{8.0 \\cdot 10^{-10} i f^{3} + 0.263327412287183 f^{2} + 2513274.12287183 i f - 394784176043574.0}}\\right|$"
      ],
      "text/plain": [
       "1.0*Abs(f*(-4.0e-7*f**2 + 259.327412287183*I*f + 41991691727.2293)/(8.0e-10*I*f**3 + 0.263327412287183*f**2 + 2513274.12287183*I*f - 394784176043574.0))"
      ]
     },
     "execution_count": 110,
     "metadata": {},
     "output_type": "execute_result"
    }
   ],
   "source": [
    "Amplitude = abs(ZinNumeric.subs(eqwf))\n",
    "Amplitude"
   ]
  },
  {
   "cell_type": "code",
   "execution_count": 124,
   "metadata": {},
   "outputs": [
    {
     "data": {
      "application/javascript": [
       "/* Put everything inside the global mpl namespace */\n",
       "window.mpl = {};\n",
       "\n",
       "\n",
       "mpl.get_websocket_type = function() {\n",
       "    if (typeof(WebSocket) !== 'undefined') {\n",
       "        return WebSocket;\n",
       "    } else if (typeof(MozWebSocket) !== 'undefined') {\n",
       "        return MozWebSocket;\n",
       "    } else {\n",
       "        alert('Your browser does not have WebSocket support.' +\n",
       "              'Please try Chrome, Safari or Firefox ≥ 6. ' +\n",
       "              'Firefox 4 and 5 are also supported but you ' +\n",
       "              'have to enable WebSockets in about:config.');\n",
       "    };\n",
       "}\n",
       "\n",
       "mpl.figure = function(figure_id, websocket, ondownload, parent_element) {\n",
       "    this.id = figure_id;\n",
       "\n",
       "    this.ws = websocket;\n",
       "\n",
       "    this.supports_binary = (this.ws.binaryType != undefined);\n",
       "\n",
       "    if (!this.supports_binary) {\n",
       "        var warnings = document.getElementById(\"mpl-warnings\");\n",
       "        if (warnings) {\n",
       "            warnings.style.display = 'block';\n",
       "            warnings.textContent = (\n",
       "                \"This browser does not support binary websocket messages. \" +\n",
       "                    \"Performance may be slow.\");\n",
       "        }\n",
       "    }\n",
       "\n",
       "    this.imageObj = new Image();\n",
       "\n",
       "    this.context = undefined;\n",
       "    this.message = undefined;\n",
       "    this.canvas = undefined;\n",
       "    this.rubberband_canvas = undefined;\n",
       "    this.rubberband_context = undefined;\n",
       "    this.format_dropdown = undefined;\n",
       "\n",
       "    this.image_mode = 'full';\n",
       "\n",
       "    this.root = $('<div/>');\n",
       "    this._root_extra_style(this.root)\n",
       "    this.root.attr('style', 'display: inline-block');\n",
       "\n",
       "    $(parent_element).append(this.root);\n",
       "\n",
       "    this._init_header(this);\n",
       "    this._init_canvas(this);\n",
       "    this._init_toolbar(this);\n",
       "\n",
       "    var fig = this;\n",
       "\n",
       "    this.waiting = false;\n",
       "\n",
       "    this.ws.onopen =  function () {\n",
       "            fig.send_message(\"supports_binary\", {value: fig.supports_binary});\n",
       "            fig.send_message(\"send_image_mode\", {});\n",
       "            if (mpl.ratio != 1) {\n",
       "                fig.send_message(\"set_dpi_ratio\", {'dpi_ratio': mpl.ratio});\n",
       "            }\n",
       "            fig.send_message(\"refresh\", {});\n",
       "        }\n",
       "\n",
       "    this.imageObj.onload = function() {\n",
       "            if (fig.image_mode == 'full') {\n",
       "                // Full images could contain transparency (where diff images\n",
       "                // almost always do), so we need to clear the canvas so that\n",
       "                // there is no ghosting.\n",
       "                fig.context.clearRect(0, 0, fig.canvas.width, fig.canvas.height);\n",
       "            }\n",
       "            fig.context.drawImage(fig.imageObj, 0, 0);\n",
       "        };\n",
       "\n",
       "    this.imageObj.onunload = function() {\n",
       "        fig.ws.close();\n",
       "    }\n",
       "\n",
       "    this.ws.onmessage = this._make_on_message_function(this);\n",
       "\n",
       "    this.ondownload = ondownload;\n",
       "}\n",
       "\n",
       "mpl.figure.prototype._init_header = function() {\n",
       "    var titlebar = $(\n",
       "        '<div class=\"ui-dialog-titlebar ui-widget-header ui-corner-all ' +\n",
       "        'ui-helper-clearfix\"/>');\n",
       "    var titletext = $(\n",
       "        '<div class=\"ui-dialog-title\" style=\"width: 100%; ' +\n",
       "        'text-align: center; padding: 3px;\"/>');\n",
       "    titlebar.append(titletext)\n",
       "    this.root.append(titlebar);\n",
       "    this.header = titletext[0];\n",
       "}\n",
       "\n",
       "\n",
       "\n",
       "mpl.figure.prototype._canvas_extra_style = function(canvas_div) {\n",
       "\n",
       "}\n",
       "\n",
       "\n",
       "mpl.figure.prototype._root_extra_style = function(canvas_div) {\n",
       "\n",
       "}\n",
       "\n",
       "mpl.figure.prototype._init_canvas = function() {\n",
       "    var fig = this;\n",
       "\n",
       "    var canvas_div = $('<div/>');\n",
       "\n",
       "    canvas_div.attr('style', 'position: relative; clear: both; outline: 0');\n",
       "\n",
       "    function canvas_keyboard_event(event) {\n",
       "        return fig.key_event(event, event['data']);\n",
       "    }\n",
       "\n",
       "    canvas_div.keydown('key_press', canvas_keyboard_event);\n",
       "    canvas_div.keyup('key_release', canvas_keyboard_event);\n",
       "    this.canvas_div = canvas_div\n",
       "    this._canvas_extra_style(canvas_div)\n",
       "    this.root.append(canvas_div);\n",
       "\n",
       "    var canvas = $('<canvas/>');\n",
       "    canvas.addClass('mpl-canvas');\n",
       "    canvas.attr('style', \"left: 0; top: 0; z-index: 0; outline: 0\")\n",
       "\n",
       "    this.canvas = canvas[0];\n",
       "    this.context = canvas[0].getContext(\"2d\");\n",
       "\n",
       "    var backingStore = this.context.backingStorePixelRatio ||\n",
       "\tthis.context.webkitBackingStorePixelRatio ||\n",
       "\tthis.context.mozBackingStorePixelRatio ||\n",
       "\tthis.context.msBackingStorePixelRatio ||\n",
       "\tthis.context.oBackingStorePixelRatio ||\n",
       "\tthis.context.backingStorePixelRatio || 1;\n",
       "\n",
       "    mpl.ratio = (window.devicePixelRatio || 1) / backingStore;\n",
       "\n",
       "    var rubberband = $('<canvas/>');\n",
       "    rubberband.attr('style', \"position: absolute; left: 0; top: 0; z-index: 1;\")\n",
       "\n",
       "    var pass_mouse_events = true;\n",
       "\n",
       "    canvas_div.resizable({\n",
       "        start: function(event, ui) {\n",
       "            pass_mouse_events = false;\n",
       "        },\n",
       "        resize: function(event, ui) {\n",
       "            fig.request_resize(ui.size.width, ui.size.height);\n",
       "        },\n",
       "        stop: function(event, ui) {\n",
       "            pass_mouse_events = true;\n",
       "            fig.request_resize(ui.size.width, ui.size.height);\n",
       "        },\n",
       "    });\n",
       "\n",
       "    function mouse_event_fn(event) {\n",
       "        if (pass_mouse_events)\n",
       "            return fig.mouse_event(event, event['data']);\n",
       "    }\n",
       "\n",
       "    rubberband.mousedown('button_press', mouse_event_fn);\n",
       "    rubberband.mouseup('button_release', mouse_event_fn);\n",
       "    // Throttle sequential mouse events to 1 every 20ms.\n",
       "    rubberband.mousemove('motion_notify', mouse_event_fn);\n",
       "\n",
       "    rubberband.mouseenter('figure_enter', mouse_event_fn);\n",
       "    rubberband.mouseleave('figure_leave', mouse_event_fn);\n",
       "\n",
       "    canvas_div.on(\"wheel\", function (event) {\n",
       "        event = event.originalEvent;\n",
       "        event['data'] = 'scroll'\n",
       "        if (event.deltaY < 0) {\n",
       "            event.step = 1;\n",
       "        } else {\n",
       "            event.step = -1;\n",
       "        }\n",
       "        mouse_event_fn(event);\n",
       "    });\n",
       "\n",
       "    canvas_div.append(canvas);\n",
       "    canvas_div.append(rubberband);\n",
       "\n",
       "    this.rubberband = rubberband;\n",
       "    this.rubberband_canvas = rubberband[0];\n",
       "    this.rubberband_context = rubberband[0].getContext(\"2d\");\n",
       "    this.rubberband_context.strokeStyle = \"#000000\";\n",
       "\n",
       "    this._resize_canvas = function(width, height) {\n",
       "        // Keep the size of the canvas, canvas container, and rubber band\n",
       "        // canvas in synch.\n",
       "        canvas_div.css('width', width)\n",
       "        canvas_div.css('height', height)\n",
       "\n",
       "        canvas.attr('width', width * mpl.ratio);\n",
       "        canvas.attr('height', height * mpl.ratio);\n",
       "        canvas.attr('style', 'width: ' + width + 'px; height: ' + height + 'px;');\n",
       "\n",
       "        rubberband.attr('width', width);\n",
       "        rubberband.attr('height', height);\n",
       "    }\n",
       "\n",
       "    // Set the figure to an initial 600x600px, this will subsequently be updated\n",
       "    // upon first draw.\n",
       "    this._resize_canvas(600, 600);\n",
       "\n",
       "    // Disable right mouse context menu.\n",
       "    $(this.rubberband_canvas).bind(\"contextmenu\",function(e){\n",
       "        return false;\n",
       "    });\n",
       "\n",
       "    function set_focus () {\n",
       "        canvas.focus();\n",
       "        canvas_div.focus();\n",
       "    }\n",
       "\n",
       "    window.setTimeout(set_focus, 100);\n",
       "}\n",
       "\n",
       "mpl.figure.prototype._init_toolbar = function() {\n",
       "    var fig = this;\n",
       "\n",
       "    var nav_element = $('<div/>')\n",
       "    nav_element.attr('style', 'width: 100%');\n",
       "    this.root.append(nav_element);\n",
       "\n",
       "    // Define a callback function for later on.\n",
       "    function toolbar_event(event) {\n",
       "        return fig.toolbar_button_onclick(event['data']);\n",
       "    }\n",
       "    function toolbar_mouse_event(event) {\n",
       "        return fig.toolbar_button_onmouseover(event['data']);\n",
       "    }\n",
       "\n",
       "    for(var toolbar_ind in mpl.toolbar_items) {\n",
       "        var name = mpl.toolbar_items[toolbar_ind][0];\n",
       "        var tooltip = mpl.toolbar_items[toolbar_ind][1];\n",
       "        var image = mpl.toolbar_items[toolbar_ind][2];\n",
       "        var method_name = mpl.toolbar_items[toolbar_ind][3];\n",
       "\n",
       "        if (!name) {\n",
       "            // put a spacer in here.\n",
       "            continue;\n",
       "        }\n",
       "        var button = $('<button/>');\n",
       "        button.addClass('ui-button ui-widget ui-state-default ui-corner-all ' +\n",
       "                        'ui-button-icon-only');\n",
       "        button.attr('role', 'button');\n",
       "        button.attr('aria-disabled', 'false');\n",
       "        button.click(method_name, toolbar_event);\n",
       "        button.mouseover(tooltip, toolbar_mouse_event);\n",
       "\n",
       "        var icon_img = $('<span/>');\n",
       "        icon_img.addClass('ui-button-icon-primary ui-icon');\n",
       "        icon_img.addClass(image);\n",
       "        icon_img.addClass('ui-corner-all');\n",
       "\n",
       "        var tooltip_span = $('<span/>');\n",
       "        tooltip_span.addClass('ui-button-text');\n",
       "        tooltip_span.html(tooltip);\n",
       "\n",
       "        button.append(icon_img);\n",
       "        button.append(tooltip_span);\n",
       "\n",
       "        nav_element.append(button);\n",
       "    }\n",
       "\n",
       "    var fmt_picker_span = $('<span/>');\n",
       "\n",
       "    var fmt_picker = $('<select/>');\n",
       "    fmt_picker.addClass('mpl-toolbar-option ui-widget ui-widget-content');\n",
       "    fmt_picker_span.append(fmt_picker);\n",
       "    nav_element.append(fmt_picker_span);\n",
       "    this.format_dropdown = fmt_picker[0];\n",
       "\n",
       "    for (var ind in mpl.extensions) {\n",
       "        var fmt = mpl.extensions[ind];\n",
       "        var option = $(\n",
       "            '<option/>', {selected: fmt === mpl.default_extension}).html(fmt);\n",
       "        fmt_picker.append(option)\n",
       "    }\n",
       "\n",
       "    // Add hover states to the ui-buttons\n",
       "    $( \".ui-button\" ).hover(\n",
       "        function() { $(this).addClass(\"ui-state-hover\");},\n",
       "        function() { $(this).removeClass(\"ui-state-hover\");}\n",
       "    );\n",
       "\n",
       "    var status_bar = $('<span class=\"mpl-message\"/>');\n",
       "    nav_element.append(status_bar);\n",
       "    this.message = status_bar[0];\n",
       "}\n",
       "\n",
       "mpl.figure.prototype.request_resize = function(x_pixels, y_pixels) {\n",
       "    // Request matplotlib to resize the figure. Matplotlib will then trigger a resize in the client,\n",
       "    // which will in turn request a refresh of the image.\n",
       "    this.send_message('resize', {'width': x_pixels, 'height': y_pixels});\n",
       "}\n",
       "\n",
       "mpl.figure.prototype.send_message = function(type, properties) {\n",
       "    properties['type'] = type;\n",
       "    properties['figure_id'] = this.id;\n",
       "    this.ws.send(JSON.stringify(properties));\n",
       "}\n",
       "\n",
       "mpl.figure.prototype.send_draw_message = function() {\n",
       "    if (!this.waiting) {\n",
       "        this.waiting = true;\n",
       "        this.ws.send(JSON.stringify({type: \"draw\", figure_id: this.id}));\n",
       "    }\n",
       "}\n",
       "\n",
       "\n",
       "mpl.figure.prototype.handle_save = function(fig, msg) {\n",
       "    var format_dropdown = fig.format_dropdown;\n",
       "    var format = format_dropdown.options[format_dropdown.selectedIndex].value;\n",
       "    fig.ondownload(fig, format);\n",
       "}\n",
       "\n",
       "\n",
       "mpl.figure.prototype.handle_resize = function(fig, msg) {\n",
       "    var size = msg['size'];\n",
       "    if (size[0] != fig.canvas.width || size[1] != fig.canvas.height) {\n",
       "        fig._resize_canvas(size[0], size[1]);\n",
       "        fig.send_message(\"refresh\", {});\n",
       "    };\n",
       "}\n",
       "\n",
       "mpl.figure.prototype.handle_rubberband = function(fig, msg) {\n",
       "    var x0 = msg['x0'] / mpl.ratio;\n",
       "    var y0 = (fig.canvas.height - msg['y0']) / mpl.ratio;\n",
       "    var x1 = msg['x1'] / mpl.ratio;\n",
       "    var y1 = (fig.canvas.height - msg['y1']) / mpl.ratio;\n",
       "    x0 = Math.floor(x0) + 0.5;\n",
       "    y0 = Math.floor(y0) + 0.5;\n",
       "    x1 = Math.floor(x1) + 0.5;\n",
       "    y1 = Math.floor(y1) + 0.5;\n",
       "    var min_x = Math.min(x0, x1);\n",
       "    var min_y = Math.min(y0, y1);\n",
       "    var width = Math.abs(x1 - x0);\n",
       "    var height = Math.abs(y1 - y0);\n",
       "\n",
       "    fig.rubberband_context.clearRect(\n",
       "        0, 0, fig.canvas.width, fig.canvas.height);\n",
       "\n",
       "    fig.rubberband_context.strokeRect(min_x, min_y, width, height);\n",
       "}\n",
       "\n",
       "mpl.figure.prototype.handle_figure_label = function(fig, msg) {\n",
       "    // Updates the figure title.\n",
       "    fig.header.textContent = msg['label'];\n",
       "}\n",
       "\n",
       "mpl.figure.prototype.handle_cursor = function(fig, msg) {\n",
       "    var cursor = msg['cursor'];\n",
       "    switch(cursor)\n",
       "    {\n",
       "    case 0:\n",
       "        cursor = 'pointer';\n",
       "        break;\n",
       "    case 1:\n",
       "        cursor = 'default';\n",
       "        break;\n",
       "    case 2:\n",
       "        cursor = 'crosshair';\n",
       "        break;\n",
       "    case 3:\n",
       "        cursor = 'move';\n",
       "        break;\n",
       "    }\n",
       "    fig.rubberband_canvas.style.cursor = cursor;\n",
       "}\n",
       "\n",
       "mpl.figure.prototype.handle_message = function(fig, msg) {\n",
       "    fig.message.textContent = msg['message'];\n",
       "}\n",
       "\n",
       "mpl.figure.prototype.handle_draw = function(fig, msg) {\n",
       "    // Request the server to send over a new figure.\n",
       "    fig.send_draw_message();\n",
       "}\n",
       "\n",
       "mpl.figure.prototype.handle_image_mode = function(fig, msg) {\n",
       "    fig.image_mode = msg['mode'];\n",
       "}\n",
       "\n",
       "mpl.figure.prototype.updated_canvas_event = function() {\n",
       "    // Called whenever the canvas gets updated.\n",
       "    this.send_message(\"ack\", {});\n",
       "}\n",
       "\n",
       "// A function to construct a web socket function for onmessage handling.\n",
       "// Called in the figure constructor.\n",
       "mpl.figure.prototype._make_on_message_function = function(fig) {\n",
       "    return function socket_on_message(evt) {\n",
       "        if (evt.data instanceof Blob) {\n",
       "            /* FIXME: We get \"Resource interpreted as Image but\n",
       "             * transferred with MIME type text/plain:\" errors on\n",
       "             * Chrome.  But how to set the MIME type?  It doesn't seem\n",
       "             * to be part of the websocket stream */\n",
       "            evt.data.type = \"image/png\";\n",
       "\n",
       "            /* Free the memory for the previous frames */\n",
       "            if (fig.imageObj.src) {\n",
       "                (window.URL || window.webkitURL).revokeObjectURL(\n",
       "                    fig.imageObj.src);\n",
       "            }\n",
       "\n",
       "            fig.imageObj.src = (window.URL || window.webkitURL).createObjectURL(\n",
       "                evt.data);\n",
       "            fig.updated_canvas_event();\n",
       "            fig.waiting = false;\n",
       "            return;\n",
       "        }\n",
       "        else if (typeof evt.data === 'string' && evt.data.slice(0, 21) == \"data:image/png;base64\") {\n",
       "            fig.imageObj.src = evt.data;\n",
       "            fig.updated_canvas_event();\n",
       "            fig.waiting = false;\n",
       "            return;\n",
       "        }\n",
       "\n",
       "        var msg = JSON.parse(evt.data);\n",
       "        var msg_type = msg['type'];\n",
       "\n",
       "        // Call the  \"handle_{type}\" callback, which takes\n",
       "        // the figure and JSON message as its only arguments.\n",
       "        try {\n",
       "            var callback = fig[\"handle_\" + msg_type];\n",
       "        } catch (e) {\n",
       "            console.log(\"No handler for the '\" + msg_type + \"' message type: \", msg);\n",
       "            return;\n",
       "        }\n",
       "\n",
       "        if (callback) {\n",
       "            try {\n",
       "                // console.log(\"Handling '\" + msg_type + \"' message: \", msg);\n",
       "                callback(fig, msg);\n",
       "            } catch (e) {\n",
       "                console.log(\"Exception inside the 'handler_\" + msg_type + \"' callback:\", e, e.stack, msg);\n",
       "            }\n",
       "        }\n",
       "    };\n",
       "}\n",
       "\n",
       "// from http://stackoverflow.com/questions/1114465/getting-mouse-location-in-canvas\n",
       "mpl.findpos = function(e) {\n",
       "    //this section is from http://www.quirksmode.org/js/events_properties.html\n",
       "    var targ;\n",
       "    if (!e)\n",
       "        e = window.event;\n",
       "    if (e.target)\n",
       "        targ = e.target;\n",
       "    else if (e.srcElement)\n",
       "        targ = e.srcElement;\n",
       "    if (targ.nodeType == 3) // defeat Safari bug\n",
       "        targ = targ.parentNode;\n",
       "\n",
       "    // jQuery normalizes the pageX and pageY\n",
       "    // pageX,Y are the mouse positions relative to the document\n",
       "    // offset() returns the position of the element relative to the document\n",
       "    var x = e.pageX - $(targ).offset().left;\n",
       "    var y = e.pageY - $(targ).offset().top;\n",
       "\n",
       "    return {\"x\": x, \"y\": y};\n",
       "};\n",
       "\n",
       "/*\n",
       " * return a copy of an object with only non-object keys\n",
       " * we need this to avoid circular references\n",
       " * http://stackoverflow.com/a/24161582/3208463\n",
       " */\n",
       "function simpleKeys (original) {\n",
       "  return Object.keys(original).reduce(function (obj, key) {\n",
       "    if (typeof original[key] !== 'object')\n",
       "        obj[key] = original[key]\n",
       "    return obj;\n",
       "  }, {});\n",
       "}\n",
       "\n",
       "mpl.figure.prototype.mouse_event = function(event, name) {\n",
       "    var canvas_pos = mpl.findpos(event)\n",
       "\n",
       "    if (name === 'button_press')\n",
       "    {\n",
       "        this.canvas.focus();\n",
       "        this.canvas_div.focus();\n",
       "    }\n",
       "\n",
       "    var x = canvas_pos.x * mpl.ratio;\n",
       "    var y = canvas_pos.y * mpl.ratio;\n",
       "\n",
       "    this.send_message(name, {x: x, y: y, button: event.button,\n",
       "                             step: event.step,\n",
       "                             guiEvent: simpleKeys(event)});\n",
       "\n",
       "    /* This prevents the web browser from automatically changing to\n",
       "     * the text insertion cursor when the button is pressed.  We want\n",
       "     * to control all of the cursor setting manually through the\n",
       "     * 'cursor' event from matplotlib */\n",
       "    event.preventDefault();\n",
       "    return false;\n",
       "}\n",
       "\n",
       "mpl.figure.prototype._key_event_extra = function(event, name) {\n",
       "    // Handle any extra behaviour associated with a key event\n",
       "}\n",
       "\n",
       "mpl.figure.prototype.key_event = function(event, name) {\n",
       "\n",
       "    // Prevent repeat events\n",
       "    if (name == 'key_press')\n",
       "    {\n",
       "        if (event.which === this._key)\n",
       "            return;\n",
       "        else\n",
       "            this._key = event.which;\n",
       "    }\n",
       "    if (name == 'key_release')\n",
       "        this._key = null;\n",
       "\n",
       "    var value = '';\n",
       "    if (event.ctrlKey && event.which != 17)\n",
       "        value += \"ctrl+\";\n",
       "    if (event.altKey && event.which != 18)\n",
       "        value += \"alt+\";\n",
       "    if (event.shiftKey && event.which != 16)\n",
       "        value += \"shift+\";\n",
       "\n",
       "    value += 'k';\n",
       "    value += event.which.toString();\n",
       "\n",
       "    this._key_event_extra(event, name);\n",
       "\n",
       "    this.send_message(name, {key: value,\n",
       "                             guiEvent: simpleKeys(event)});\n",
       "    return false;\n",
       "}\n",
       "\n",
       "mpl.figure.prototype.toolbar_button_onclick = function(name) {\n",
       "    if (name == 'download') {\n",
       "        this.handle_save(this, null);\n",
       "    } else {\n",
       "        this.send_message(\"toolbar_button\", {name: name});\n",
       "    }\n",
       "};\n",
       "\n",
       "mpl.figure.prototype.toolbar_button_onmouseover = function(tooltip) {\n",
       "    this.message.textContent = tooltip;\n",
       "};\n",
       "mpl.toolbar_items = [[\"Home\", \"Reset original view\", \"fa fa-home icon-home\", \"home\"], [\"Back\", \"Back to  previous view\", \"fa fa-arrow-left icon-arrow-left\", \"back\"], [\"Forward\", \"Forward to next view\", \"fa fa-arrow-right icon-arrow-right\", \"forward\"], [\"\", \"\", \"\", \"\"], [\"Pan\", \"Pan axes with left mouse, zoom with right\", \"fa fa-arrows icon-move\", \"pan\"], [\"Zoom\", \"Zoom to rectangle\", \"fa fa-square-o icon-check-empty\", \"zoom\"], [\"\", \"\", \"\", \"\"], [\"Download\", \"Download plot\", \"fa fa-floppy-o icon-save\", \"download\"]];\n",
       "\n",
       "mpl.extensions = [\"eps\", \"jpeg\", \"pdf\", \"png\", \"ps\", \"raw\", \"svg\", \"tif\"];\n",
       "\n",
       "mpl.default_extension = \"png\";var comm_websocket_adapter = function(comm) {\n",
       "    // Create a \"websocket\"-like object which calls the given IPython comm\n",
       "    // object with the appropriate methods. Currently this is a non binary\n",
       "    // socket, so there is still some room for performance tuning.\n",
       "    var ws = {};\n",
       "\n",
       "    ws.close = function() {\n",
       "        comm.close()\n",
       "    };\n",
       "    ws.send = function(m) {\n",
       "        //console.log('sending', m);\n",
       "        comm.send(m);\n",
       "    };\n",
       "    // Register the callback with on_msg.\n",
       "    comm.on_msg(function(msg) {\n",
       "        //console.log('receiving', msg['content']['data'], msg);\n",
       "        // Pass the mpl event to the overridden (by mpl) onmessage function.\n",
       "        ws.onmessage(msg['content']['data'])\n",
       "    });\n",
       "    return ws;\n",
       "}\n",
       "\n",
       "mpl.mpl_figure_comm = function(comm, msg) {\n",
       "    // This is the function which gets called when the mpl process\n",
       "    // starts-up an IPython Comm through the \"matplotlib\" channel.\n",
       "\n",
       "    var id = msg.content.data.id;\n",
       "    // Get hold of the div created by the display call when the Comm\n",
       "    // socket was opened in Python.\n",
       "    var element = $(\"#\" + id);\n",
       "    var ws_proxy = comm_websocket_adapter(comm)\n",
       "\n",
       "    function ondownload(figure, format) {\n",
       "        window.open(figure.imageObj.src);\n",
       "    }\n",
       "\n",
       "    var fig = new mpl.figure(id, ws_proxy,\n",
       "                           ondownload,\n",
       "                           element.get(0));\n",
       "\n",
       "    // Call onopen now - mpl needs it, as it is assuming we've passed it a real\n",
       "    // web socket which is closed, not our websocket->open comm proxy.\n",
       "    ws_proxy.onopen();\n",
       "\n",
       "    fig.parent_element = element.get(0);\n",
       "    fig.cell_info = mpl.find_output_cell(\"<div id='\" + id + \"'></div>\");\n",
       "    if (!fig.cell_info) {\n",
       "        console.error(\"Failed to find cell for figure\", id, fig);\n",
       "        return;\n",
       "    }\n",
       "\n",
       "    var output_index = fig.cell_info[2]\n",
       "    var cell = fig.cell_info[0];\n",
       "\n",
       "};\n",
       "\n",
       "mpl.figure.prototype.handle_close = function(fig, msg) {\n",
       "    var width = fig.canvas.width/mpl.ratio\n",
       "    fig.root.unbind('remove')\n",
       "\n",
       "    // Update the output cell to use the data from the current canvas.\n",
       "    fig.push_to_output();\n",
       "    var dataURL = fig.canvas.toDataURL();\n",
       "    // Re-enable the keyboard manager in IPython - without this line, in FF,\n",
       "    // the notebook keyboard shortcuts fail.\n",
       "    IPython.keyboard_manager.enable()\n",
       "    $(fig.parent_element).html('<img src=\"' + dataURL + '\" width=\"' + width + '\">');\n",
       "    fig.close_ws(fig, msg);\n",
       "}\n",
       "\n",
       "mpl.figure.prototype.close_ws = function(fig, msg){\n",
       "    fig.send_message('closing', msg);\n",
       "    // fig.ws.close()\n",
       "}\n",
       "\n",
       "mpl.figure.prototype.push_to_output = function(remove_interactive) {\n",
       "    // Turn the data on the canvas into data in the output cell.\n",
       "    var width = this.canvas.width/mpl.ratio\n",
       "    var dataURL = this.canvas.toDataURL();\n",
       "    this.cell_info[1]['text/html'] = '<img src=\"' + dataURL + '\" width=\"' + width + '\">';\n",
       "}\n",
       "\n",
       "mpl.figure.prototype.updated_canvas_event = function() {\n",
       "    // Tell IPython that the notebook contents must change.\n",
       "    IPython.notebook.set_dirty(true);\n",
       "    this.send_message(\"ack\", {});\n",
       "    var fig = this;\n",
       "    // Wait a second, then push the new image to the DOM so\n",
       "    // that it is saved nicely (might be nice to debounce this).\n",
       "    setTimeout(function () { fig.push_to_output() }, 1000);\n",
       "}\n",
       "\n",
       "mpl.figure.prototype._init_toolbar = function() {\n",
       "    var fig = this;\n",
       "\n",
       "    var nav_element = $('<div/>')\n",
       "    nav_element.attr('style', 'width: 100%');\n",
       "    this.root.append(nav_element);\n",
       "\n",
       "    // Define a callback function for later on.\n",
       "    function toolbar_event(event) {\n",
       "        return fig.toolbar_button_onclick(event['data']);\n",
       "    }\n",
       "    function toolbar_mouse_event(event) {\n",
       "        return fig.toolbar_button_onmouseover(event['data']);\n",
       "    }\n",
       "\n",
       "    for(var toolbar_ind in mpl.toolbar_items){\n",
       "        var name = mpl.toolbar_items[toolbar_ind][0];\n",
       "        var tooltip = mpl.toolbar_items[toolbar_ind][1];\n",
       "        var image = mpl.toolbar_items[toolbar_ind][2];\n",
       "        var method_name = mpl.toolbar_items[toolbar_ind][3];\n",
       "\n",
       "        if (!name) { continue; };\n",
       "\n",
       "        var button = $('<button class=\"btn btn-default\" href=\"#\" title=\"' + name + '\"><i class=\"fa ' + image + ' fa-lg\"></i></button>');\n",
       "        button.click(method_name, toolbar_event);\n",
       "        button.mouseover(tooltip, toolbar_mouse_event);\n",
       "        nav_element.append(button);\n",
       "    }\n",
       "\n",
       "    // Add the status bar.\n",
       "    var status_bar = $('<span class=\"mpl-message\" style=\"text-align:right; float: right;\"/>');\n",
       "    nav_element.append(status_bar);\n",
       "    this.message = status_bar[0];\n",
       "\n",
       "    // Add the close button to the window.\n",
       "    var buttongrp = $('<div class=\"btn-group inline pull-right\"></div>');\n",
       "    var button = $('<button class=\"btn btn-mini btn-primary\" href=\"#\" title=\"Stop Interaction\"><i class=\"fa fa-power-off icon-remove icon-large\"></i></button>');\n",
       "    button.click(function (evt) { fig.handle_close(fig, {}); } );\n",
       "    button.mouseover('Stop Interaction', toolbar_mouse_event);\n",
       "    buttongrp.append(button);\n",
       "    var titlebar = this.root.find($('.ui-dialog-titlebar'));\n",
       "    titlebar.prepend(buttongrp);\n",
       "}\n",
       "\n",
       "mpl.figure.prototype._root_extra_style = function(el){\n",
       "    var fig = this\n",
       "    el.on(\"remove\", function(){\n",
       "\tfig.close_ws(fig, {});\n",
       "    });\n",
       "}\n",
       "\n",
       "mpl.figure.prototype._canvas_extra_style = function(el){\n",
       "    // this is important to make the div 'focusable\n",
       "    el.attr('tabindex', 0)\n",
       "    // reach out to IPython and tell the keyboard manager to turn it's self\n",
       "    // off when our div gets focus\n",
       "\n",
       "    // location in version 3\n",
       "    if (IPython.notebook.keyboard_manager) {\n",
       "        IPython.notebook.keyboard_manager.register_events(el);\n",
       "    }\n",
       "    else {\n",
       "        // location in version 2\n",
       "        IPython.keyboard_manager.register_events(el);\n",
       "    }\n",
       "\n",
       "}\n",
       "\n",
       "mpl.figure.prototype._key_event_extra = function(event, name) {\n",
       "    var manager = IPython.notebook.keyboard_manager;\n",
       "    if (!manager)\n",
       "        manager = IPython.keyboard_manager;\n",
       "\n",
       "    // Check for shift+enter\n",
       "    if (event.shiftKey && event.which == 13) {\n",
       "        this.canvas_div.blur();\n",
       "        event.shiftKey = false;\n",
       "        // Send a \"J\" for go to next cell\n",
       "        event.which = 74;\n",
       "        event.keyCode = 74;\n",
       "        manager.command_mode();\n",
       "        manager.handle_keydown(event);\n",
       "    }\n",
       "}\n",
       "\n",
       "mpl.figure.prototype.handle_save = function(fig, msg) {\n",
       "    fig.ondownload(fig, null);\n",
       "}\n",
       "\n",
       "\n",
       "mpl.find_output_cell = function(html_output) {\n",
       "    // Return the cell and output element which can be found *uniquely* in the notebook.\n",
       "    // Note - this is a bit hacky, but it is done because the \"notebook_saving.Notebook\"\n",
       "    // IPython event is triggered only after the cells have been serialised, which for\n",
       "    // our purposes (turning an active figure into a static one), is too late.\n",
       "    var cells = IPython.notebook.get_cells();\n",
       "    var ncells = cells.length;\n",
       "    for (var i=0; i<ncells; i++) {\n",
       "        var cell = cells[i];\n",
       "        if (cell.cell_type === 'code'){\n",
       "            for (var j=0; j<cell.output_area.outputs.length; j++) {\n",
       "                var data = cell.output_area.outputs[j];\n",
       "                if (data.data) {\n",
       "                    // IPython >= 3 moved mimebundle to data attribute of output\n",
       "                    data = data.data;\n",
       "                }\n",
       "                if (data['text/html'] == html_output) {\n",
       "                    return [cell, data, j];\n",
       "                }\n",
       "            }\n",
       "        }\n",
       "    }\n",
       "}\n",
       "\n",
       "// Register the function which deals with the matplotlib target/channel.\n",
       "// The kernel may be null if the page has been refreshed.\n",
       "if (IPython.notebook.kernel != null) {\n",
       "    IPython.notebook.kernel.comm_manager.register_target('matplotlib', mpl.mpl_figure_comm);\n",
       "}\n"
      ],
      "text/plain": [
       "<IPython.core.display.Javascript object>"
      ]
     },
     "metadata": {},
     "output_type": "display_data"
    },
    {
     "data": {
      "text/html": [
       "<img src=\"data:image/png;base64,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\" width=\"640\">"
      ],
      "text/plain": [
       "<IPython.core.display.HTML object>"
      ]
     },
     "metadata": {},
     "output_type": "display_data"
    },
    {
     "ename": "ValueError",
     "evalue": "x and y must have same first dimension, but have shapes (1,) and (3,)",
     "output_type": "error",
     "traceback": [
      "\u001b[1;31m---------------------------------------------------------------------------\u001b[0m",
      "\u001b[1;31mValueError\u001b[0m                                Traceback (most recent call last)",
      "\u001b[1;32m<ipython-input-124-76b10d488694>\u001b[0m in \u001b[0;36m<module>\u001b[1;34m\u001b[0m\n\u001b[1;32m----> 1\u001b[1;33m \u001b[0mplt\u001b[0m\u001b[1;33m.\u001b[0m\u001b[0mplot\u001b[0m\u001b[1;33m(\u001b[0m\u001b[0mAmplitude\u001b[0m\u001b[1;33m,\u001b[0m \u001b[1;33m(\u001b[0m\u001b[0mw\u001b[0m\u001b[1;33m,\u001b[0m\u001b[1;36m2\u001b[0m\u001b[1;33m*\u001b[0m\u001b[0mpi\u001b[0m\u001b[1;33m*\u001b[0m\u001b[1;36m10\u001b[0m\u001b[1;33m*\u001b[0m\u001b[1;36m1e3\u001b[0m\u001b[1;33m,\u001b[0m\u001b[1;36m2\u001b[0m\u001b[1;33m*\u001b[0m\u001b[0mpi\u001b[0m\u001b[1;33m*\u001b[0m\u001b[1;36m10\u001b[0m\u001b[1;33m*\u001b[0m\u001b[1;36m100e6\u001b[0m\u001b[1;33m)\u001b[0m\u001b[1;33m,\u001b[0m \u001b[0mxscale\u001b[0m\u001b[1;33m=\u001b[0m\u001b[1;34m'log'\u001b[0m\u001b[1;33m,\u001b[0m \u001b[0myscale\u001b[0m\u001b[1;33m=\u001b[0m\u001b[1;34m'log'\u001b[0m\u001b[1;33m,\u001b[0m \u001b[0madaptive\u001b[0m\u001b[1;33m=\u001b[0m\u001b[1;32mFalse\u001b[0m\u001b[1;33m)\u001b[0m\u001b[1;33m\u001b[0m\u001b[1;33m\u001b[0m\u001b[0m\n\u001b[0m",
      "\u001b[1;32mC:\\ProgramData\\Anaconda3\\lib\\site-packages\\matplotlib\\pyplot.py\u001b[0m in \u001b[0;36mplot\u001b[1;34m(*args, **kwargs)\u001b[0m\n\u001b[0;32m   3361\u001b[0m                       mplDeprecation)\n\u001b[0;32m   3362\u001b[0m     \u001b[1;32mtry\u001b[0m\u001b[1;33m:\u001b[0m\u001b[1;33m\u001b[0m\u001b[1;33m\u001b[0m\u001b[0m\n\u001b[1;32m-> 3363\u001b[1;33m         \u001b[0mret\u001b[0m \u001b[1;33m=\u001b[0m \u001b[0max\u001b[0m\u001b[1;33m.\u001b[0m\u001b[0mplot\u001b[0m\u001b[1;33m(\u001b[0m\u001b[1;33m*\u001b[0m\u001b[0margs\u001b[0m\u001b[1;33m,\u001b[0m \u001b[1;33m**\u001b[0m\u001b[0mkwargs\u001b[0m\u001b[1;33m)\u001b[0m\u001b[1;33m\u001b[0m\u001b[1;33m\u001b[0m\u001b[0m\n\u001b[0m\u001b[0;32m   3364\u001b[0m     \u001b[1;32mfinally\u001b[0m\u001b[1;33m:\u001b[0m\u001b[1;33m\u001b[0m\u001b[1;33m\u001b[0m\u001b[0m\n\u001b[0;32m   3365\u001b[0m         \u001b[0max\u001b[0m\u001b[1;33m.\u001b[0m\u001b[0m_hold\u001b[0m \u001b[1;33m=\u001b[0m \u001b[0mwashold\u001b[0m\u001b[1;33m\u001b[0m\u001b[1;33m\u001b[0m\u001b[0m\n",
      "\u001b[1;32mC:\\ProgramData\\Anaconda3\\lib\\site-packages\\matplotlib\\__init__.py\u001b[0m in \u001b[0;36minner\u001b[1;34m(ax, *args, **kwargs)\u001b[0m\n\u001b[0;32m   1865\u001b[0m                         \u001b[1;34m\"the Matplotlib list!)\"\u001b[0m \u001b[1;33m%\u001b[0m \u001b[1;33m(\u001b[0m\u001b[0mlabel_namer\u001b[0m\u001b[1;33m,\u001b[0m \u001b[0mfunc\u001b[0m\u001b[1;33m.\u001b[0m\u001b[0m__name__\u001b[0m\u001b[1;33m)\u001b[0m\u001b[1;33m,\u001b[0m\u001b[1;33m\u001b[0m\u001b[1;33m\u001b[0m\u001b[0m\n\u001b[0;32m   1866\u001b[0m                         RuntimeWarning, stacklevel=2)\n\u001b[1;32m-> 1867\u001b[1;33m             \u001b[1;32mreturn\u001b[0m \u001b[0mfunc\u001b[0m\u001b[1;33m(\u001b[0m\u001b[0max\u001b[0m\u001b[1;33m,\u001b[0m \u001b[1;33m*\u001b[0m\u001b[0margs\u001b[0m\u001b[1;33m,\u001b[0m \u001b[1;33m**\u001b[0m\u001b[0mkwargs\u001b[0m\u001b[1;33m)\u001b[0m\u001b[1;33m\u001b[0m\u001b[1;33m\u001b[0m\u001b[0m\n\u001b[0m\u001b[0;32m   1868\u001b[0m \u001b[1;33m\u001b[0m\u001b[0m\n\u001b[0;32m   1869\u001b[0m         inner.__doc__ = _add_data_doc(inner.__doc__,\n",
      "\u001b[1;32mC:\\ProgramData\\Anaconda3\\lib\\site-packages\\matplotlib\\axes\\_axes.py\u001b[0m in \u001b[0;36mplot\u001b[1;34m(self, *args, **kwargs)\u001b[0m\n\u001b[0;32m   1526\u001b[0m         \u001b[0mkwargs\u001b[0m \u001b[1;33m=\u001b[0m \u001b[0mcbook\u001b[0m\u001b[1;33m.\u001b[0m\u001b[0mnormalize_kwargs\u001b[0m\u001b[1;33m(\u001b[0m\u001b[0mkwargs\u001b[0m\u001b[1;33m,\u001b[0m \u001b[0m_alias_map\u001b[0m\u001b[1;33m)\u001b[0m\u001b[1;33m\u001b[0m\u001b[1;33m\u001b[0m\u001b[0m\n\u001b[0;32m   1527\u001b[0m \u001b[1;33m\u001b[0m\u001b[0m\n\u001b[1;32m-> 1528\u001b[1;33m         \u001b[1;32mfor\u001b[0m \u001b[0mline\u001b[0m \u001b[1;32min\u001b[0m \u001b[0mself\u001b[0m\u001b[1;33m.\u001b[0m\u001b[0m_get_lines\u001b[0m\u001b[1;33m(\u001b[0m\u001b[1;33m*\u001b[0m\u001b[0margs\u001b[0m\u001b[1;33m,\u001b[0m \u001b[1;33m**\u001b[0m\u001b[0mkwargs\u001b[0m\u001b[1;33m)\u001b[0m\u001b[1;33m:\u001b[0m\u001b[1;33m\u001b[0m\u001b[1;33m\u001b[0m\u001b[0m\n\u001b[0m\u001b[0;32m   1529\u001b[0m             \u001b[0mself\u001b[0m\u001b[1;33m.\u001b[0m\u001b[0madd_line\u001b[0m\u001b[1;33m(\u001b[0m\u001b[0mline\u001b[0m\u001b[1;33m)\u001b[0m\u001b[1;33m\u001b[0m\u001b[1;33m\u001b[0m\u001b[0m\n\u001b[0;32m   1530\u001b[0m             \u001b[0mlines\u001b[0m\u001b[1;33m.\u001b[0m\u001b[0mappend\u001b[0m\u001b[1;33m(\u001b[0m\u001b[0mline\u001b[0m\u001b[1;33m)\u001b[0m\u001b[1;33m\u001b[0m\u001b[1;33m\u001b[0m\u001b[0m\n",
      "\u001b[1;32mC:\\ProgramData\\Anaconda3\\lib\\site-packages\\matplotlib\\axes\\_base.py\u001b[0m in \u001b[0;36m_grab_next_args\u001b[1;34m(self, *args, **kwargs)\u001b[0m\n\u001b[0;32m    404\u001b[0m                 \u001b[0mthis\u001b[0m \u001b[1;33m+=\u001b[0m \u001b[0margs\u001b[0m\u001b[1;33m[\u001b[0m\u001b[1;36m0\u001b[0m\u001b[1;33m]\u001b[0m\u001b[1;33m,\u001b[0m\u001b[1;33m\u001b[0m\u001b[1;33m\u001b[0m\u001b[0m\n\u001b[0;32m    405\u001b[0m                 \u001b[0margs\u001b[0m \u001b[1;33m=\u001b[0m \u001b[0margs\u001b[0m\u001b[1;33m[\u001b[0m\u001b[1;36m1\u001b[0m\u001b[1;33m:\u001b[0m\u001b[1;33m]\u001b[0m\u001b[1;33m\u001b[0m\u001b[1;33m\u001b[0m\u001b[0m\n\u001b[1;32m--> 406\u001b[1;33m             \u001b[1;32mfor\u001b[0m \u001b[0mseg\u001b[0m \u001b[1;32min\u001b[0m \u001b[0mself\u001b[0m\u001b[1;33m.\u001b[0m\u001b[0m_plot_args\u001b[0m\u001b[1;33m(\u001b[0m\u001b[0mthis\u001b[0m\u001b[1;33m,\u001b[0m \u001b[0mkwargs\u001b[0m\u001b[1;33m)\u001b[0m\u001b[1;33m:\u001b[0m\u001b[1;33m\u001b[0m\u001b[1;33m\u001b[0m\u001b[0m\n\u001b[0m\u001b[0;32m    407\u001b[0m                 \u001b[1;32myield\u001b[0m \u001b[0mseg\u001b[0m\u001b[1;33m\u001b[0m\u001b[1;33m\u001b[0m\u001b[0m\n\u001b[0;32m    408\u001b[0m \u001b[1;33m\u001b[0m\u001b[0m\n",
      "\u001b[1;32mC:\\ProgramData\\Anaconda3\\lib\\site-packages\\matplotlib\\axes\\_base.py\u001b[0m in \u001b[0;36m_plot_args\u001b[1;34m(self, tup, kwargs)\u001b[0m\n\u001b[0;32m    381\u001b[0m             \u001b[0mx\u001b[0m\u001b[1;33m,\u001b[0m \u001b[0my\u001b[0m \u001b[1;33m=\u001b[0m \u001b[0mindex_of\u001b[0m\u001b[1;33m(\u001b[0m\u001b[0mtup\u001b[0m\u001b[1;33m[\u001b[0m\u001b[1;33m-\u001b[0m\u001b[1;36m1\u001b[0m\u001b[1;33m]\u001b[0m\u001b[1;33m)\u001b[0m\u001b[1;33m\u001b[0m\u001b[1;33m\u001b[0m\u001b[0m\n\u001b[0;32m    382\u001b[0m \u001b[1;33m\u001b[0m\u001b[0m\n\u001b[1;32m--> 383\u001b[1;33m         \u001b[0mx\u001b[0m\u001b[1;33m,\u001b[0m \u001b[0my\u001b[0m \u001b[1;33m=\u001b[0m \u001b[0mself\u001b[0m\u001b[1;33m.\u001b[0m\u001b[0m_xy_from_xy\u001b[0m\u001b[1;33m(\u001b[0m\u001b[0mx\u001b[0m\u001b[1;33m,\u001b[0m \u001b[0my\u001b[0m\u001b[1;33m)\u001b[0m\u001b[1;33m\u001b[0m\u001b[1;33m\u001b[0m\u001b[0m\n\u001b[0m\u001b[0;32m    384\u001b[0m \u001b[1;33m\u001b[0m\u001b[0m\n\u001b[0;32m    385\u001b[0m         \u001b[1;32mif\u001b[0m \u001b[0mself\u001b[0m\u001b[1;33m.\u001b[0m\u001b[0mcommand\u001b[0m \u001b[1;33m==\u001b[0m \u001b[1;34m'plot'\u001b[0m\u001b[1;33m:\u001b[0m\u001b[1;33m\u001b[0m\u001b[1;33m\u001b[0m\u001b[0m\n",
      "\u001b[1;32mC:\\ProgramData\\Anaconda3\\lib\\site-packages\\matplotlib\\axes\\_base.py\u001b[0m in \u001b[0;36m_xy_from_xy\u001b[1;34m(self, x, y)\u001b[0m\n\u001b[0;32m    240\u001b[0m         \u001b[1;32mif\u001b[0m \u001b[0mx\u001b[0m\u001b[1;33m.\u001b[0m\u001b[0mshape\u001b[0m\u001b[1;33m[\u001b[0m\u001b[1;36m0\u001b[0m\u001b[1;33m]\u001b[0m \u001b[1;33m!=\u001b[0m \u001b[0my\u001b[0m\u001b[1;33m.\u001b[0m\u001b[0mshape\u001b[0m\u001b[1;33m[\u001b[0m\u001b[1;36m0\u001b[0m\u001b[1;33m]\u001b[0m\u001b[1;33m:\u001b[0m\u001b[1;33m\u001b[0m\u001b[1;33m\u001b[0m\u001b[0m\n\u001b[0;32m    241\u001b[0m             raise ValueError(\"x and y must have same first dimension, but \"\n\u001b[1;32m--> 242\u001b[1;33m                              \"have shapes {} and {}\".format(x.shape, y.shape))\n\u001b[0m\u001b[0;32m    243\u001b[0m         \u001b[1;32mif\u001b[0m \u001b[0mx\u001b[0m\u001b[1;33m.\u001b[0m\u001b[0mndim\u001b[0m \u001b[1;33m>\u001b[0m \u001b[1;36m2\u001b[0m \u001b[1;32mor\u001b[0m \u001b[0my\u001b[0m\u001b[1;33m.\u001b[0m\u001b[0mndim\u001b[0m \u001b[1;33m>\u001b[0m \u001b[1;36m2\u001b[0m\u001b[1;33m:\u001b[0m\u001b[1;33m\u001b[0m\u001b[1;33m\u001b[0m\u001b[0m\n\u001b[0;32m    244\u001b[0m             raise ValueError(\"x and y can be no greater than 2-D, but have \"\n",
      "\u001b[1;31mValueError\u001b[0m: x and y must have same first dimension, but have shapes (1,) and (3,)"
     ]
    }
   ],
   "source": [
    "plt.plot(Amplitude, (w,2*pi*10*1e3,2*pi*10*100e6), xscale='log', yscale='log', adaptive=False)"
   ]
  },
  {
   "cell_type": "markdown",
   "metadata": {},
   "source": [
    "ZinYL für tiefe Frequenzen"
   ]
  },
  {
   "cell_type": "code",
   "execution_count": 126,
   "metadata": {},
   "outputs": [
    {
     "data": {
      "text/latex": [
       "$\\displaystyle \\frac{s \\left(C w_{1}^{2} + 4 s \\left(C s + 2 G\\right) + 4 w_{1} \\left(C s + G\\right)\\right)}{G \\left(G w_{1}^{2} + 4 s^{2} \\left(2 C s + 3 G\\right) + 4 s w_{1} \\left(C s - G\\right)\\right)}$"
      ],
      "text/plain": [
       "s*(C*w1**2 + 4*s*(C*s + 2*G) + 4*w1*(C*s + G))/(G*(G*w1**2 + 4*s**2*(2*C*s + 3*G) + 4*s*w1*(C*s - G)))"
      ]
     },
     "execution_count": 126,
     "metadata": {},
     "output_type": "execute_result"
    }
   ],
   "source": [
    "ZinYL"
   ]
  },
  {
   "cell_type": "code",
   "execution_count": 127,
   "metadata": {},
   "outputs": [
    {
     "data": {
      "text/latex": [
       "$\\displaystyle s \\left(C w_{1}^{2} + 4 s \\left(C s + 2 G\\right) + 4 w_{1} \\left(C s + G\\right)\\right)$"
      ],
      "text/plain": [
       "s*(C*w1**2 + 4*s*(C*s + 2*G) + 4*w1*(C*s + G))"
      ]
     },
     "execution_count": 127,
     "metadata": {},
     "output_type": "execute_result"
    }
   ],
   "source": [
    "N,D = fraction(ZinYL)\n",
    "N"
   ]
  },
  {
   "cell_type": "code",
   "execution_count": 128,
   "metadata": {},
   "outputs": [
    {
     "data": {
      "text/latex": [
       "$\\displaystyle G \\left(G w_{1}^{2} + 4 s^{2} \\left(2 C s + 3 G\\right) + 4 s w_{1} \\left(C s - G\\right)\\right)$"
      ],
      "text/plain": [
       "G*(G*w1**2 + 4*s**2*(2*C*s + 3*G) + 4*s*w1*(C*s - G))"
      ]
     },
     "execution_count": 128,
     "metadata": {},
     "output_type": "execute_result"
    }
   ],
   "source": [
    "D"
   ]
  },
  {
   "cell_type": "code",
   "execution_count": 132,
   "metadata": {},
   "outputs": [
    {
     "data": {
      "text/plain": [
       "[8*C*G, 4*C*G*w1 + 12*G**2, -4*G**2*w1, G**2*w1**2]"
      ]
     },
     "execution_count": 132,
     "metadata": {},
     "output_type": "execute_result"
    }
   ],
   "source": [
    "Dcoeffs = poly(D,s).all_coeffs()\n",
    "Dcoeffs"
   ]
  },
  {
   "cell_type": "code",
   "execution_count": 133,
   "metadata": {},
   "outputs": [
    {
     "data": {
      "text/plain": [
       "[4*C, 4*C*w1 + 8*G, C*w1**2 + 4*G*w1, 0]"
      ]
     },
     "execution_count": 133,
     "metadata": {},
     "output_type": "execute_result"
    }
   ],
   "source": [
    "Ncoeffs = poly(N,s).all_coeffs()\n",
    "Ncoeffs"
   ]
  },
  {
   "cell_type": "code",
   "execution_count": 135,
   "metadata": {},
   "outputs": [
    {
     "data": {
      "text/latex": [
       "$\\displaystyle \\frac{s \\left(C w_{1}^{2} + 4 G w_{1}\\right)}{G^{2} w_{1}^{2}}$"
      ],
      "text/plain": [
       "s*(C*w1**2 + 4*G*w1)/(G**2*w1**2)"
      ]
     },
     "execution_count": 135,
     "metadata": {},
     "output_type": "execute_result"
    }
   ],
   "source": [
    "ZinYLsimp = s*Ncoeffs[2] / Dcoeffs[3]\n",
    "ZinYLsimp"
   ]
  },
  {
   "cell_type": "code",
   "execution_count": null,
   "metadata": {},
   "outputs": [],
   "source": []
  }
 ],
 "metadata": {
  "kernelspec": {
   "display_name": "Python 3",
   "language": "python",
   "name": "python3"
  },
  "language_info": {
   "codemirror_mode": {
    "name": "ipython",
    "version": 3
   },
   "file_extension": ".py",
   "mimetype": "text/x-python",
   "name": "python",
   "nbconvert_exporter": "python",
   "pygments_lexer": "ipython3",
   "version": "3.7.3"
  }
 },
 "nbformat": 4,
 "nbformat_minor": 2
}
