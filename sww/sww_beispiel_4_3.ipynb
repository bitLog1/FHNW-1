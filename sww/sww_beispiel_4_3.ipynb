{
 "cells": [
  {
   "cell_type": "code",
   "execution_count": 105,
   "metadata": {},
   "outputs": [],
   "source": [
    "%matplotlib notebook\n",
    "from sympy import *\n",
    "import numpy as np\n",
    "import matplotlib.pyplot as plt\n",
    "from prettytable import PrettyTable"
   ]
  },
  {
   "cell_type": "markdown",
   "metadata": {},
   "source": [
    "# sww - Beispiel 4.3\n",
    "\n",
    "\n",
    "Beispiel 4.3 50-Ω-Koaxialkabel II\n",
    "Das 50-Ω-Koaxialkabel ’RG 223 U’ der Firma HELUKABEL besitzt gemäss Datenblatt einen Innendurchmesser vom d1 = 0.9 mm und einen Aussendurchmesser von d2 = 2.95 mm. Als Isolationsmaterial zwischen Innen- und Aussenleiter wird PE verwendet (εr=2.25) und der Schleifenwiderstand des Kabels beträgt 36 Ω/km. Berechnen Sie für eine Anregung mit 5 Hz,\n",
    "50 Hz, 500 Hz, 5 kHz, 50 kHz, 500 kHz, 5 MHz, 50 MHz, 500 MHz und 5 GHz die folgenden Grössen: \n",
    "- (a) Den Extinktionskoefﬁzienten κ, \n",
    "- (b) Den Brechungsindex n, \n",
    "- (c) die Phasengeschwindigkeit c, \n",
    "- (d) die Wellenzahl k, \n",
    "- (e) die Wellenlänge λ , \n",
    "- (f) den Verkürzungsfaktor c/c0\n",
    "- (e) die Strecke x99 im Kabel, in welcher die Amplitude der Welle um 1% abnimmt.\n",
    "\n"
   ]
  },
  {
   "cell_type": "code",
   "execution_count": 94,
   "metadata": {},
   "outputs": [
    {
     "data": {
      "text/plain": [
       "array([5.e+00, 5.e+01, 5.e+02, 5.e+03, 5.e+04, 5.e+05, 5.e+06])"
      ]
     },
     "execution_count": 94,
     "metadata": {},
     "output_type": "execute_result"
    }
   ],
   "source": [
    "d1 = 0.9e-3\n",
    "d2 = 2.95e-3\n",
    "eps_0 = 8.854e-12\n",
    "eps_r = 2.25\n",
    "mu_0 = 1.2566e-7\n",
    "mu_r = 1 # Annahme\n",
    "R_x = 36e-3\n",
    "\n",
    "# Frequenzen: 5*10^k\n",
    "k = np.linspace(0, 6, 7)\n",
    "f = 5*np.power(10, k)\n",
    "f"
   ]
  },
  {
   "cell_type": "code",
   "execution_count": 85,
   "metadata": {},
   "outputs": [
    {
     "data": {
      "text/plain": [
       "2.374261346923805e-08"
      ]
     },
     "execution_count": 85,
     "metadata": {},
     "output_type": "execute_result"
    }
   ],
   "source": [
    "# Vorbereitung\n",
    "L_x = mu_0*mu_r/(2*np.pi)*np.log(d2/d1)\n",
    "L_x"
   ]
  },
  {
   "cell_type": "code",
   "execution_count": 86,
   "metadata": {},
   "outputs": [
    {
     "data": {
      "text/plain": [
       "1.0543639996681197e-10"
      ]
     },
     "execution_count": 86,
     "metadata": {},
     "output_type": "execute_result"
    }
   ],
   "source": [
    "C_x = 2*np.pi*eps_r*eps_0/np.log(d2/d1)\n",
    "C_x"
   ]
  },
  {
   "cell_type": "code",
   "execution_count": 87,
   "metadata": {},
   "outputs": [
    {
     "data": {
      "text/plain": [
       "array([1.55343310e+02, 4.91192881e+01, 1.55184071e+01, 4.86181277e+00,\n",
       "       1.40159140e+00, 2.34924790e-01, 2.41250245e-02])"
      ]
     },
     "execution_count": 87,
     "metadata": {},
     "output_type": "execute_result"
    }
   ],
   "source": [
    "kappa = np.sqrt( 1/2 *( -1 + np.sqrt( 1+ np.power(R_x/(2*np.pi*f*L_x),2))))\n",
    "kappa"
   ]
  },
  {
   "cell_type": "code",
   "execution_count": 88,
   "metadata": {},
   "outputs": [
    {
     "data": {
      "text/plain": [
       "array([155.34652908,  49.12946632,  15.55059352,   4.96358977,\n",
       "         1.72176028,   1.02722425,   1.00029097])"
      ]
     },
     "execution_count": 88,
     "metadata": {},
     "output_type": "execute_result"
    }
   ],
   "source": [
    "n = np.sqrt( 1/2 *( 1 + np.sqrt( 1+ np.power(R_x/(2*np.pi*f*L_x),2))))\n",
    "n"
   ]
  },
  {
   "cell_type": "code",
   "execution_count": 89,
   "metadata": {},
   "outputs": [
    {
     "data": {
      "text/plain": [
       "632034018.6794403"
      ]
     },
     "execution_count": 89,
     "metadata": {},
     "output_type": "execute_result"
    }
   ],
   "source": [
    "c__ = 1/np.sqrt(L_x * C_x)\n",
    "c__"
   ]
  },
  {
   "cell_type": "code",
   "execution_count": 91,
   "metadata": {},
   "outputs": [
    {
     "data": {
      "text/plain": [
       "array([4.06854290e+06, 1.28646628e+07, 4.06437232e+07, 1.27334056e+08,\n",
       "       3.67085956e+08, 6.15283391e+08, 6.31850172e+08])"
      ]
     },
     "execution_count": 91,
     "metadata": {},
     "output_type": "execute_result"
    }
   ],
   "source": [
    "c = c__ / n\n",
    "c"
   ]
  },
  {
   "cell_type": "code",
   "execution_count": 96,
   "metadata": {},
   "outputs": [
    {
     "data": {
      "text/plain": [
       "array([7.72166529e-06, 2.44203264e-05, 7.72958874e-05, 2.46720535e-04,\n",
       "       8.55819353e-04, 5.10592794e-03, 4.97205318e-02])"
      ]
     },
     "execution_count": 96,
     "metadata": {},
     "output_type": "execute_result"
    }
   ],
   "source": [
    "k = 2*np.pi*f/c\n",
    "k"
   ]
  },
  {
   "cell_type": "code",
   "execution_count": 98,
   "metadata": {},
   "outputs": [
    {
     "data": {
      "text/plain": [
       "array([8.13708581e+05, 2.57293256e+05, 8.12874464e+04, 2.54668113e+04,\n",
       "       7.34171912e+03, 1.23056678e+03, 1.26370034e+02])"
      ]
     },
     "execution_count": 98,
     "metadata": {},
     "output_type": "execute_result"
    }
   ],
   "source": [
    "lam = 2*np.pi/k\n",
    "lam"
   ]
  },
  {
   "cell_type": "code",
   "execution_count": 102,
   "metadata": {},
   "outputs": [
    {
     "data": {
      "text/plain": [
       "array([0.01356181, 0.04288221, 0.13547908, 0.42444685, 1.22361985,\n",
       "       2.05094464, 2.10616724])"
      ]
     },
     "execution_count": 102,
     "metadata": {},
     "output_type": "execute_result"
    }
   ],
   "source": [
    "cc0 = c/(3e8)\n",
    "cc0"
   ]
  },
  {
   "cell_type": "code",
   "execution_count": 103,
   "metadata": {},
   "outputs": [
    {
     "data": {
      "text/plain": [
       "array([1301.60317912,  411.64144401,  130.29387966,   41.58846843,\n",
       "         14.42612634,    8.60681185,    8.38114575])"
      ]
     },
     "execution_count": 103,
     "metadata": {},
     "output_type": "execute_result"
    }
   ],
   "source": [
    "x99 = - c__/(kappa*2*np.pi*f)*np.log(99/100)\n",
    "x99"
   ]
  },
  {
   "cell_type": "markdown",
   "metadata": {},
   "source": [
    "### Resultate"
   ]
  },
  {
   "cell_type": "code",
   "execution_count": 110,
   "metadata": {},
   "outputs": [
    {
     "name": "stdout",
     "output_type": "stream",
     "text": [
      "+--------------------+-------------------+--------------------+-------------------+-------------------+--------------------+----------------------+\n",
      "|      Field 1       |      Field 2      |      Field 3       |      Field 4      |      Field 5      |      Field 6       |       Field 7        |\n",
      "+--------------------+-------------------+--------------------+-------------------+-------------------+--------------------+----------------------+\n",
      "|        5.0         |        50.0       |       500.0        |       5000.0      |      50000.0      |      500000.0      |      5000000.0       |\n",
      "| 155.34331044020408 | 49.11928807640157 | 15.518407099839033 | 4.861812766065019 | 1.401591404115704 | 0.2349247900398192 | 0.024125024529677006 |\n",
      "+--------------------+-------------------+--------------------+-------------------+-------------------+--------------------+----------------------+\n"
     ]
    }
   ],
   "source": [
    "tab = PrettyTable()\n",
    "tab.add_row(f)\n",
    "tab.add_row(kappa)\n",
    "\n",
    "print(tab)"
   ]
  },
  {
   "cell_type": "code",
   "execution_count": null,
   "metadata": {},
   "outputs": [],
   "source": []
  }
 ],
 "metadata": {
  "kernelspec": {
   "display_name": "Python 3",
   "language": "python",
   "name": "python3"
  },
  "language_info": {
   "codemirror_mode": {
    "name": "ipython",
    "version": 3
   },
   "file_extension": ".py",
   "mimetype": "text/x-python",
   "name": "python",
   "nbconvert_exporter": "python",
   "pygments_lexer": "ipython3",
   "version": "3.7.3"
  }
 },
 "nbformat": 4,
 "nbformat_minor": 2
}
